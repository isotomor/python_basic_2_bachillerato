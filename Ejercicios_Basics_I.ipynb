{
  "cells": [
    {
      "cell_type": "markdown",
      "metadata": {
        "id": "HfSvMstd9eBY"
      },
      "source": [
        "# Ejercicios Python Basics I"
      ]
    },
    {
      "cell_type": "markdown",
      "metadata": {
        "id": "flt74OQI9eBZ"
      },
      "source": [
        "## Ejercicio 1\n",
        "1. Escribe el nombre de la calle de tu domicilio en una variable\n",
        "2. Escribe el numero de la calle en otra\n",
        "3. Ciudad en una tercera\n",
        "4. Codigo postal en la cuarta variable\n",
        "5. Crea una quinta variable que concatene todas ellas\n",
        "6. Imprimela por pantalla"
      ]
    },
    {
      "cell_type": "markdown",
      "metadata": {
        "id": "7l7EOhso9eBb"
      },
      "source": [
        "## Ejercicio 2\n",
        "Replica el output del ejercicio dos, pero está vez sin usar una variable intermedia que concatene todas las demas. Realiza este ejercicio en una línea, con un  único `print`"
      ]
    },
    {
      "cell_type": "markdown",
      "metadata": {
        "id": "b5bMSvxP9eBb"
      },
      "source": [
        "## Ejercicio 3\n",
        "¿Qué variables están mal escritas y por qué? Realiza primero tu hipótesis y luego ejecuta las variables para comprobarlo. En ese orden :)\n",
        "\n",
        "\n",
        "1. mi_variable = \"Economía\"\n",
        "2. otra_var = \"Ejercicio\n",
        "3. True = \"Ejercicio\"\n",
        "4. mi variab1e = \"Alpha\"\n",
        "5. import = 40\n",
        "6. 81mi_variable = \"Agua\"\n",
        "7. mi_variable10 = 6"
      ]
    },
    {
      "cell_type": "code",
      "source": [],
      "metadata": {
        "id": "8TdAO5fw-Qc0"
      },
      "execution_count": null,
      "outputs": []
    }
  ],
  "metadata": {
    "kernelspec": {
      "display_name": "Python 3 (ipykernel)",
      "language": "python",
      "name": "python3"
    },
    "language_info": {
      "codemirror_mode": {
        "name": "ipython",
        "version": 3
      },
      "file_extension": ".py",
      "mimetype": "text/x-python",
      "name": "python",
      "nbconvert_exporter": "python",
      "pygments_lexer": "ipython3",
      "version": "3.10.9"
    },
    "nbTranslate": {
      "displayLangs": [
        "*"
      ],
      "hotkey": "alt-t",
      "langInMainMenu": true,
      "sourceLang": "en",
      "targetLang": "fr",
      "useGoogleTranslate": true
    },
    "varInspector": {
      "cols": {
        "lenName": 16,
        "lenType": 16,
        "lenVar": 40
      },
      "kernels_config": {
        "python": {
          "delete_cmd_postfix": "",
          "delete_cmd_prefix": "del ",
          "library": "var_list.py",
          "varRefreshCmd": "print(var_dic_list())"
        },
        "r": {
          "delete_cmd_postfix": ") ",
          "delete_cmd_prefix": "rm(",
          "library": "var_list.r",
          "varRefreshCmd": "cat(var_dic_list()) "
        }
      },
      "types_to_exclude": [
        "module",
        "function",
        "builtin_function_or_method",
        "instance",
        "_Feature"
      ],
      "window_display": false
    },
    "vscode": {
      "interpreter": {
        "hash": "ec2a379ed5c25334a484232182c9d38ef8bd9861e2542d0c517568c4f99a9a7c"
      }
    },
    "colab": {
      "provenance": []
    }
  },
  "nbformat": 4,
  "nbformat_minor": 0
}